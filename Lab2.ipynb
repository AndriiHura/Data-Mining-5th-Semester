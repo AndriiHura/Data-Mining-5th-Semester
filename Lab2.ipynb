{
 "cells": [
  {
   "cell_type": "code",
   "execution_count": 2,
   "metadata": {},
   "outputs": [],
   "source": [
    "import pandas as pd\n",
    "import numpy as np"
   ]
  },
  {
   "cell_type": "code",
   "execution_count": 4,
   "metadata": {},
   "outputs": [
    {
     "name": "stdout",
     "output_type": "stream",
     "text": [
      "60\n"
     ]
    }
   ],
   "source": [
    "frame = pd.read_csv(\"Lab2Data.dat\", delim_whitespace=True, names=[\"V\", \"F\", \"C\", \"M\", \"Fifth\"])\n",
    "frame.drop('Fifth', axis = 1, inplace = True)\n",
    "frame.insert(0, \"X0\", 1)\n",
    "#frame\n",
    "total_rows = frame.count()[1]\n",
    "print(total_rows)"
   ]
  },
  {
   "cell_type": "code",
   "execution_count": 225,
   "metadata": {},
   "outputs": [],
   "source": [
    "def my_transpose(matr):\n",
    "    \"\"\"Transposing a matrix\"\"\"\n",
    "    \"\"\"In case input is matrix then ad .A to input argument\"\"\"\n",
    "    if(len(matr.shape)==1):\n",
    "        #If its a 1 row matrix\n",
    "        n_matr = np.zeros(shape=(matr.shape[0],1))#Create matrix of zeros of size of future matrix\n",
    "        for num in range(0,n_matr.shape[0]):\n",
    "            n_matr[num][0]=matr[num]\n",
    "        return n_matr\n",
    "    else:\n",
    "        #If we have more than 1 row\n",
    "        n_matr = np.zeros(shape=(matr.shape[1],matr.shape[0]))#Create matrix of converted size\n",
    "        for num1 in range(0,n_matr.shape[0]):\n",
    "            for num2 in range(0,n_matr.shape[1]):\n",
    "                n_matr[num1][num2] = matr[num2][num1]\n",
    "        return n_matr\n",
    "    return(\"Something went wrong\")\n",
    "        "
   ]
  },
  {
   "cell_type": "code",
   "execution_count": 226,
   "metadata": {},
   "outputs": [],
   "source": [
    "def new_matr_element(row, col):\n",
    "    \"\"\"Function counts element (row,col) for new matrix after multiplication of matr1 X matr2\"\"\"\n",
    "    sum = 0\n",
    "    for num in range(0,len(row)):\n",
    "        sum += row[num]*col[num]\n",
    "    return sum"
   ]
  },
  {
   "cell_type": "code",
   "execution_count": 227,
   "metadata": {},
   "outputs": [],
   "source": [
    "def my_matrix_multiplication(matr1, matr2):\n",
    "    if(matr1.shape[1] == matr2.shape[0]):\n",
    "        #We can multiply matrixes only in number of cols of first matr is equal to number of rows of second\n",
    "        #At first create matrix of size of future matrix but full of 0\n",
    "        n_matr = np.zeros(shape=(matr1.shape[0], matr2.shape[1]))\n",
    "        for num1 in range(0,n_matr.shape[0]):\n",
    "            for num2 in range(0,n_matr.shape[1]):\n",
    "                row = matr1[num1, :]#row of the first matrix\n",
    "                col = matr2[:, num2]#col of the second matrix\n",
    "                n_matr[num1][num2] = new_matr_element(row, col)\n",
    "        return n_matr\n",
    "    pass"
   ]
  },
  {
   "cell_type": "code",
   "execution_count": 228,
   "metadata": {},
   "outputs": [],
   "source": [
    "def my_minor(i,j, matr):\n",
    "    \"\"\"Function returns matrix's minor for (i,j) element\"\"\"\n",
    "    return np.delete(np.delete(matr,i,0),j,1)"
   ]
  },
  {
   "cell_type": "code",
   "execution_count": 229,
   "metadata": {},
   "outputs": [],
   "source": [
    "def my_det(matr):\n",
    "    \"\"\"Function counts determinant of matrix\"\"\"\n",
    "    if(len(matr) == 2):\n",
    "        #Exit from recursion when 2x2 matrix\n",
    "        return matr[0][0] * matr[1][1] - matr[1][0] * matr[0][1]\n",
    "    else:\n",
    "        #If matr > 2X2 then we have to do it recursivly\n",
    "        det = 0\n",
    "        for num in range(len(matr)):\n",
    "            det += matr[0][num] * (-1) ** num * my_det(my_minor(0,num,matr))\n",
    "        return det"
   ]
  },
  {
   "cell_type": "code",
   "execution_count": 230,
   "metadata": {},
   "outputs": [],
   "source": [
    "def my_cofactor_matrix(matr):\n",
    "    \"\"\"Counts cofactor matrix for input matrix\"\"\"\n",
    "    n_matr = np.zeros(shape=(len(matr),len(matr)))\n",
    "    for num1 in range(len(matr)):\n",
    "        for num2 in range(len(matr)):\n",
    "            n_matr[num1][num2] = (-1)**(num1 + num2) * my_det(my_minor(num1,num2,matr))\n",
    "    return n_matr"
   ]
  },
  {
   "cell_type": "code",
   "execution_count": 231,
   "metadata": {},
   "outputs": [],
   "source": [
    "def my_inverse_matr(matr):\n",
    "    \"\"\"Counts inverse matrix for input one\"\"\"\n",
    "    detMatr = my_det(matr)\n",
    "    cofactorMatr = my_cofactor_matrix(matr)\n",
    "    transposeCM = my_transpose(cofactorMatr)\n",
    "    return transposeCM/detMatr"
   ]
  },
  {
   "cell_type": "code",
   "execution_count": 332,
   "metadata": {},
   "outputs": [],
   "source": [
    "def regression_coefficients1(frame):\n",
    "    \"\"\"Counts regression coefficients for first variant\"\"\"\n",
    "    df = frame.copy()\n",
    "    del df['C']\n",
    "    df['F'] = df.F.shift(1, fill_value = 0)\n",
    "    df['V'] = df.V.shift(1, fill_value = 0)\n",
    "    A_matrix = df.values\n",
    "    Y_vector = my_transpose(frame.C.values)\n",
    "    firstPart = my_inverse_matr(my_matrix_multiplication(my_transpose(A_matrix), A_matrix))\n",
    "    secondPart = my_matrix_multiplication(my_transpose(A_matrix), Y_vector)\n",
    "    return my_matrix_multiplication(firstPart, secondPart)\n",
    "\n",
    "def regression_coefficients2(frame):\n",
    "    \"\"\"Counts regression coefficients for second variant\"\"\"\n",
    "    df = frame.copy()\n",
    "    del df['V']\n",
    "    df['F'] = df.F.shift(1, fill_value = 0)\n",
    "    df['M'] = df.M.shift(1, fill_value = 0)\n",
    "    A_matrix = df.values\n",
    "    Y_vector = my_transpose(frame.V.values)\n",
    "    firstPart = my_inverse_matr(my_matrix_multiplication(my_transpose(A_matrix), A_matrix))\n",
    "    secondPart = my_matrix_multiplication(my_transpose(A_matrix), Y_vector)\n",
    "    return my_matrix_multiplication(firstPart, secondPart)\n",
    "\n",
    "def regression_coefficients3(frame):\n",
    "    \"\"\"Counts regression coefficients for third variant\"\"\"\n",
    "    df = frame.copy()\n",
    "    del df['M']\n",
    "    df['C'] = df.C.shift(1, fill_value = 0)\n",
    "    #df['M'] = df.M.shift(1, fill_value = 0)\n",
    "    A_matrix = df.values\n",
    "    Y_vector = my_transpose(frame.M.values)\n",
    "    firstPart = my_inverse_matr(my_matrix_multiplication(my_transpose(A_matrix), A_matrix))\n",
    "    secondPart = my_matrix_multiplication(my_transpose(A_matrix), Y_vector)\n",
    "    return my_matrix_multiplication(firstPart, secondPart)\n",
    "\n",
    "def regression_coefficients4(frame):\n",
    "    \"\"\"Counts regression coefficients for third variant\"\"\"\n",
    "    df = frame.copy()\n",
    "    del df['F']\n",
    "    df['C'] = df.C.shift(1, fill_value = 0)\n",
    "    df['M'] = df.M.shift(1, fill_value = 0)\n",
    "    A_matrix = df.values\n",
    "    Y_vector = my_transpose(frame.F.values)\n",
    "    firstPart = my_inverse_matr(my_matrix_multiplication(my_transpose(A_matrix), A_matrix))\n",
    "    secondPart = my_matrix_multiplication(my_transpose(A_matrix), Y_vector)\n",
    "    return my_matrix_multiplication(firstPart, secondPart)\n",
    "\n",
    "def regression_coefficients5(frame):\n",
    "    \"\"\"Counts regression coefficients for fifth variant\"\"\"\n",
    "    df = frame.copy()\n",
    "    del df['C']\n",
    "    #df['C'] = df.C.shift(1, fill_value = 0)\n",
    "    df['M'] = df.M.shift(1, fill_value = 0)\n",
    "    A_matrix = df.values\n",
    "    Y_vector = my_transpose(frame.C.values)\n",
    "    firstPart = my_inverse_matr(my_matrix_multiplication(my_transpose(A_matrix), A_matrix))\n",
    "    secondPart = my_matrix_multiplication(my_transpose(A_matrix), Y_vector)\n",
    "    return my_matrix_multiplication(firstPart, secondPart)\n",
    "\n",
    "def regression_coefficients6(frame):\n",
    "    \"\"\"Counts regression coefficients for sixth variant\"\"\"\n",
    "    df = frame.copy()\n",
    "    del df['F']\n",
    "    df['V'] = df.V.shift(1, fill_value = 0)\n",
    "    #df['M'] = df.M.shift(1, fill_value = 0)\n",
    "    A_matrix = df.values\n",
    "    Y_vector = my_transpose(frame.F.values)\n",
    "    firstPart = my_inverse_matr(my_matrix_multiplication(my_transpose(A_matrix), A_matrix))\n",
    "    secondPart = my_matrix_multiplication(my_transpose(A_matrix), Y_vector)\n",
    "    return my_matrix_multiplication(firstPart, secondPart)"
   ]
  },
  {
   "cell_type": "code",
   "execution_count": 339,
   "metadata": {},
   "outputs": [
    {
     "name": "stdout",
     "output_type": "stream",
     "text": [
      "First Variant [[ 0.97330798]\n",
      " [-1.38862634]\n",
      " [ 0.05431333]\n",
      " [30.75879983]] \n",
      "\n",
      "Second Variant [[ 1.06403877]\n",
      " [-0.13513973]\n",
      " [-0.91851142]\n",
      " [30.29279272]] \n",
      "\n",
      "Third Variant [[-0.02738777]\n",
      " [ 0.03191008]\n",
      " [ 0.00948489]\n",
      " [ 0.01984496]] \n",
      "\n",
      "Fourth Variant [[ 2.03340808]\n",
      " [-1.13057985]\n",
      " [-1.2379046 ]\n",
      " [67.82250264]] \n",
      "\n",
      "Fifth Variant [[ 1.13407167]\n",
      " [-0.91166278]\n",
      " [-0.11304732]\n",
      " [30.17288027]] \n",
      "\n",
      "Sixth Variant [[ -1.05144463]\n",
      " [  2.74689058]\n",
      " [  1.75842846]\n",
      " [-23.45989834]] \n",
      "\n"
     ]
    }
   ],
   "source": [
    "print(\"First Variant\",regression_coefficients1(frame),\"\\n\")\n",
    "print(\"Second Variant\",regression_coefficients2(frame),\"\\n\")\n",
    "print(\"Third Variant\",regression_coefficients3(frame),\"\\n\")\n",
    "print(\"Fourth Variant\",regression_coefficients4(frame),\"\\n\")\n",
    "print(\"Fifth Variant\",regression_coefficients5(frame),\"\\n\")\n",
    "print(\"Sixth Variant\",regression_coefficients6(frame),\"\\n\")"
   ]
  },
  {
   "cell_type": "code",
   "execution_count": 343,
   "metadata": {},
   "outputs": [
    {
     "data": {
      "text/plain": [
       "array([[4],\n",
       "       [5],\n",
       "       [6]])"
      ]
     },
     "execution_count": 343,
     "metadata": {},
     "output_type": "execute_result"
    }
   ],
   "source": [
    "np.matrix('4;5;6').A"
   ]
  },
  {
   "cell_type": "code",
   "execution_count": 342,
   "metadata": {},
   "outputs": [
    {
     "data": {
      "text/plain": [
       "array([[1],\n",
       "       [2],\n",
       "       [3]])"
      ]
     },
     "execution_count": 342,
     "metadata": {},
     "output_type": "execute_result"
    }
   ],
   "source": [
    "np.array([[1],[2],[3]])"
   ]
  },
  {
   "cell_type": "code",
   "execution_count": null,
   "metadata": {},
   "outputs": [],
   "source": []
  }
 ],
 "metadata": {
  "kernelspec": {
   "display_name": "Python 3",
   "language": "python",
   "name": "python3"
  },
  "language_info": {
   "codemirror_mode": {
    "name": "ipython",
    "version": 3
   },
   "file_extension": ".py",
   "mimetype": "text/x-python",
   "name": "python",
   "nbconvert_exporter": "python",
   "pygments_lexer": "ipython3",
   "version": "3.7.3"
  }
 },
 "nbformat": 4,
 "nbformat_minor": 2
}
